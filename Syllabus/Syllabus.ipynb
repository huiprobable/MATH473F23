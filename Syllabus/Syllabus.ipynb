{
 "cells": [
  {
   "cell_type": "markdown",
   "id": "e3a1d009-5c0f-4f3e-9ccd-fe122ad48255",
   "metadata": {},
   "source": [
    "# Math 473: Scientific Computing, Fall 2023\n",
    "__________________________________________________________________________\n",
    "\n",
    "## Class Info\n",
    "\n",
    "|                           |                      |                      |\n",
    "| :---                      |    :----:            |          ---:        |\n",
    "| Instructor: Paul Sun      |                      |                      |\n",
    "| email: paul.sun@csulb.edu | Office: FO3-117      | Phone: 562.985.5609  |\n",
    "|Office Hours: 10:00–11:00am  | Tuesday and Thursday |        @ FO3-117     |\n",
    "|Class Time: 12:30pm-1:45pm  | Tuesday and Thursday |        @ LA5-349     |\n",
    "|Hybrid [zoom link](https://csulb.zoom.us/j/86745963093?pwd=Y1ZlZFBOZjdiRHMwRTB4bkRSeFBMUT09)   | ID: 867 4596 3093    |  passcode: 615646    |\n",
    "\n",
    "## Course Description\n",
    "\n",
    "In this class, we will learn various topics on scientific computing and their implementations in Python. Examples may include optimization, matrix factorization, numerical integration, numerial differentiation, and iterative methods for sparse linear systems. Furthermore, we will also learn to use Python for data analysis, processing, and visualization. \n",
    "\n",
    "## Student Learning Outcomes\n",
    "\n",
    "Upon the completion of the course, you will be able to \n",
    "1. install various python modules and look up useful functions through documentations;\n",
    "2. use python to implement algorithms related to scientific computing;\n",
    "3. use python to load, process, learn and interpret various data;\n",
    "4. use Jypiter-note book to write technical reports and manuscripts, explaining scientific computing topics in a way that combines theory and coding;\n",
    "6. clearly communicate scientific computing topics and their applications through oral presentations. \n",
    "\n",
    "## Textbook\n",
    "\n",
    "No textbook is required. The following recommended book is optional:\n",
    "* [A First Course in Numerical Methods](https://epubs.siam.org/doi/book/10.1137/9780898719987) by *Ascher* and *Greif*\n",
    "\n",
    "\n",
    "## Grading Policy\n",
    "\n",
    "Your course score is sub-divided into the following categories with weight:\n",
    "\n",
    "|                           |                      | \n",
    "| :---                      |    :----:            | \n",
    "| Lab assignments      |        70%              |\n",
    "| Final project presentation |  15%            |\n",
    "| Final project report  |       15%           |\n",
    "\n",
    "The final course grade scheme is listed here:\n",
    "\n",
    "|      |     |    |     |       |        | \n",
    "| :---      |    :----: |    :----: |    :----: |    :----: |    :----:      | \n",
    "| Percent range      |   90-100%  |   80-90%  |   70-80% |   60-70% |   0-60%    |\n",
    "| Letter grade |  A  | B | C | D | F | \n",
    "\n",
    "__________________________________________________________________________\n"
   ]
  },
  {
   "cell_type": "markdown",
   "id": "4c4fbc40-ef40-4759-86bc-ef96895a3ba7",
   "metadata": {},
   "source": [
    "## CSULB Policies\n",
    "\n",
    "### Accommodation and Technical Help:\n",
    "\n",
    "1. If you have disability and need some special accommodation, you need to visit Bob Murphy Access Center (BMAC) [https://web.csulb.edu/divisions/students/dss/](https://web.csulb.edu/divisions/students/dss/). It is your responsibility to notify me, in advance, of your need for the accommodation of a disability that has been verified by the University.\n",
    "2. If you do not have a laptop or only have poor internet access, you may check out CSULB’s announcement regarding supplying you with laptops and internet hotspots. Please see the webpage linked here: [https://www.csulb.edu/news/article/csulb-to-supply-laptops-and-internet-hotspots-for-students? fbclid=IwAR3Kd8A1UpGn80XI1ZscYl9SCLCF4IY-D4CSwAosfRx8iJanAMtDoBEgLCo](https://www.csulb.edu/news/article/csulb-to-supply-laptops-and-internet-hotspots-for-students?fbclid=IwAR3Kd8A1UpGn80XI1ZscYl9SCLCF4IY-D4CSwAosfRx8iJanAMtDoBEgLCo).\n",
    "3. If you need help on Canvas, Zoom, or other technical area related to online learning, you may seek help from Academic Technology Services. Here is their website: [https://www.csulb.edu/academic-technology-services](https://www.csulb.edu/academic-technology-services). You may find the Keep Learning module in this website helpful. [https://www.csulb.edu/academic-technology-services/instructional-design/keep-teaching-and-learning](https://www.csulb.edu/academic-technology-services/instructional-design/keep-teaching-and-learning)\n",
    "\n",
    "### Dropping or Withdrawal:\n",
    "\n",
    "If you intend to drop (within first two weeks), withdraw (week 3-12), or catastrophic withdraw (week 13-15) from the class, you may follow the guideline in this website [https://www.csulb.edu/student-records/dropping-and-withdrawing](https://www.csulb.edu/student-records/dropping-and-withdrawing). \n",
    "\n",
    "### Attendance and Missed Assignments:\n",
    "\n",
    "Students are required to attend every class. However, attendance and participation will not be used in grade determination. It is the student’s responsibility to keep informed of any announcements, syllabus adjustments, or policy changes made during scheduled classes. If you miss the deadline of one due material, you may make it up or turn it in late, but you need to provide legitimate reasons. Otherwise, the instructor may not accept the late material or may deduct partial credits.\n",
    "\n",
    "### Cheating and Plagiarism:\n",
    "\n",
    "Work that you submit is assumed to be original for this assignment unless your source material is documented appropriately, such as a Works Cited page. Using the ideas or words of another person, even a peer, or a web site, as if it were your own, is plagiarism. Cheating and plagiarism are serious academic offenses, and are not allowed in this course. \n",
    "\n",
    "___________________________________"
   ]
  },
  {
   "cell_type": "markdown",
   "id": "e921566b-427c-4711-b465-2c24562f56bc",
   "metadata": {},
   "source": [
    "## Additional CSULB Syllabus Statements\n"
   ]
  },
  {
   "cell_type": "markdown",
   "id": "5b88c6d8-c1ea-4cdf-8d59-87213c3b6f3d",
   "metadata": {},
   "source": [
    "### COVID 19 Health and Safety Requirements\n",
    "\n",
    "To facilitate safe and comfortable in-person learning environments:\n",
    "\n",
    "1. Students are required to be fully vaccinated and boosted to physically access the classroom or class-related experiences on- or off-campus, unless approved for a legitimate exemption. Those with a legitimate exemption are required to test weekly.\n",
    "\n",
    "2. Our campus strongly recommends but no longer requires facial coverings in indoor spaces. Faculty members cannot require students to wear masks or segregate students who choose not to wear a mask in classrooms as a result of this policy. Mask wearing may only be required for students when there has been a verified COVID-19 exposure in a classroom. (see www.csulb.edu/covid-19).\n",
    "\n",
    "Be sure to regularly check your CSULB email and the CSULB Covid-19 website both for the most up-to-date information and for specific information on protocols for exposures to or positive tests for COVID-19.\n",
    "\n"
   ]
  },
  {
   "cell_type": "markdown",
   "id": "b1e67164-9dc0-4d12-af1c-a658a8b4f4d2",
   "metadata": {},
   "source": [
    "### Zero-Tolerance for Sexual/Gender-Based Harassment\n",
    "\n",
    "The CNSM is committed to providing a safe and positive learning environment and has established a zero-tolerance policy for any sexual/gender-based misconduct, including, but not limited to sexual harassment, assault, dating violence, stalking for all faculty, staff, and students."
   ]
  },
  {
   "cell_type": "markdown",
   "id": "a4075768-82be-4849-937d-607ca5467032",
   "metadata": {},
   "source": [
    "### Syllabus Statement on Basic Needs\n",
    "\n",
    "If you are having trouble affording enough food to eat, do not have a safe and reliable place to\n",
    "sleep, and/or experiencing an emergency or crisis, then the Basic Needs Program is here to\n",
    "help. The Basic Needs Program provides emergency services and resources for students. To\n",
    "learn more about the program, visit [https://www.csulb.edu/student-affairs/basic-needs/basic-needs-services](https://www.csulb.edu/student-affairs/basic-needs/basic-needs-services).\n"
   ]
  },
  {
   "cell_type": "markdown",
   "id": "f437695e-c448-4cb6-b53c-1f673da6d297",
   "metadata": {
    "tags": []
   },
   "source": [
    "### CNSM Statement on Anti-Hate Speech/Promotion of Tolerance\n",
    "\n",
    "As members of The Beach community, we practice tolerance and denounce hate and prejudice. Our classroom will strive to be a place of mutual respect where the focus is on learning and student success.   \n"
   ]
  },
  {
   "cell_type": "code",
   "execution_count": null,
   "id": "0a7413a7-3422-434c-bdf3-5356cf3d791f",
   "metadata": {},
   "outputs": [],
   "source": []
  }
 ],
 "metadata": {
  "kernelspec": {
   "display_name": "Python 3 (ipykernel)",
   "language": "python",
   "name": "python3"
  },
  "language_info": {
   "codemirror_mode": {
    "name": "ipython",
    "version": 3
   },
   "file_extension": ".py",
   "mimetype": "text/x-python",
   "name": "python",
   "nbconvert_exporter": "python",
   "pygments_lexer": "ipython3",
   "version": "3.10.8"
  }
 },
 "nbformat": 4,
 "nbformat_minor": 5
}
