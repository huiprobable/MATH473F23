{
 "cells": [
  {
   "cell_type": "markdown",
   "id": "8904e362-cf37-48cd-8e5f-ae387c02d28c",
   "metadata": {},
   "source": [
    "# Assignment 04\n",
    "\n",
    "Due Oct 5, 11:59pm. Please submit one .ipynb file to Beachboard. "
   ]
  },
  {
   "cell_type": "markdown",
   "id": "4700cf1a-44b1-4039-ab0a-e1fdd646fc6e",
   "metadata": {},
   "source": [
    "<p style='text-align: right; '> Put your name here </p>\n",
    "<p style='text-align: right; '> Put the date here </p>"
   ]
  },
  {
   "cell_type": "markdown",
   "id": "a2195e07-fe48-4ff1-bd8f-f20295e601a1",
   "metadata": {},
   "source": [
    "Consider the $1D$ Poissons equation $$u_{xx}=f(x),\\quad \\text{ with } x\\in(0,2)$$\n",
    "$$x(0)=1,\\quad\\quad x(2)=2$$\n",
    "$$\\text{ and } f(x) = 4$$"
   ]
  },
  {
   "cell_type": "markdown",
   "id": "8f0a1362-3813-43df-ad9d-a718735d0828",
   "metadata": {},
   "source": [
    "$$u(x) = 2x^2-3.5x+1$$"
   ]
  },
  {
   "cell_type": "markdown",
   "id": "4d5107df-e036-4d4f-944e-a448e2d7b032",
   "metadata": {},
   "source": [
    "**Step 1** Write down the discretization formula for the differential equation at the $i-th$ row of the linear system, as well as the discretization at the boundary. "
   ]
  },
  {
   "cell_type": "markdown",
   "id": "1cbccce4-1205-449c-8e3f-0b5d6279baf6",
   "metadata": {},
   "source": [
    "\n",
    "\n"
   ]
  },
  {
   "cell_type": "markdown",
   "id": "654fc771-20c8-481e-b0f8-be114cfc68d6",
   "metadata": {},
   "source": [
    "**Step 2** Form the sparse matrix A, and the right hand side *np.array* b, and solve the system using *spsolve* from the *scipy.sparse.linalg* library. "
   ]
  },
  {
   "cell_type": "code",
   "execution_count": 4,
   "id": "9b0f83e3-13b9-454b-9c39-98c7c87c846c",
   "metadata": {},
   "outputs": [],
   "source": [
    "# Your code goes here\n",
    "\n",
    "\n",
    "\n"
   ]
  },
  {
   "cell_type": "markdown",
   "id": "fd4b2864-34ad-429f-a815-9013071fc91d",
   "metadata": {},
   "source": [
    "**Step 3** Find the analytic solution to this problem. Note that this is an ODE, so you should be able to find the solution using some knowledge from MATH364A and MATH364B. Write down the solution here"
   ]
  },
  {
   "cell_type": "markdown",
   "id": "4522f7b1-e6e0-445b-ab27-48a99e47a004",
   "metadata": {},
   "source": [
    "\n",
    "\n",
    "\n",
    "\n"
   ]
  },
  {
   "cell_type": "markdown",
   "id": "4d05b8e8-cc3f-4186-8ed5-00c4584e06b4",
   "metadata": {},
   "source": [
    "**Step 4** Compare your numerical solution $u^h$ with your analytical solution $u$, and find the $L_2$ norm of the error $\\|u-u^h\\|_{_2}$, where $h=2/N$, and we may use $N=32, 64, 128$. Note that the definition of $L_2$ norm is $$\\|u-u^h\\|_{_2}=\\sqrt{\\sum_{i=0}^{N}|u_i-u^h_i|^2h}$$"
   ]
  },
  {
   "cell_type": "code",
   "execution_count": 6,
   "id": "3716cc15-81be-4edf-ad37-a172bb44eb16",
   "metadata": {},
   "outputs": [],
   "source": [
    "# Your code goes here\n",
    "\n",
    "\n",
    "\n"
   ]
  },
  {
   "cell_type": "code",
   "execution_count": null,
   "id": "aae110be-6378-4cac-9c36-ac73b5fa32bc",
   "metadata": {},
   "outputs": [],
   "source": []
  }
 ],
 "metadata": {
  "kernelspec": {
   "display_name": "Python 3 (ipykernel)",
   "language": "python",
   "name": "python3"
  },
  "language_info": {
   "codemirror_mode": {
    "name": "ipython",
    "version": 3
   },
   "file_extension": ".py",
   "mimetype": "text/x-python",
   "name": "python",
   "nbconvert_exporter": "python",
   "pygments_lexer": "ipython3",
   "version": "3.10.8"
  }
 },
 "nbformat": 4,
 "nbformat_minor": 5
}
