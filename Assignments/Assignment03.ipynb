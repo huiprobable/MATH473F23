{
 "cells": [
  {
   "cell_type": "markdown",
   "id": "5b0af556-3197-498b-885f-799c00872071",
   "metadata": {},
   "source": [
    "# Assignment 03\n",
    "\n",
    "Due Sep 21, 11:59pm. Please submit one .ipynb file to Beachboard. "
   ]
  },
  {
   "cell_type": "markdown",
   "id": "24216163-d94c-4506-a542-6586b12c06a0",
   "metadata": {},
   "source": [
    "<p style='text-align: right; '> Put your name here </p>\n",
    "<p style='text-align: right; '> Put the date here </p>"
   ]
  },
  {
   "cell_type": "markdown",
   "id": "02063c1a-3a02-4056-b20b-4eb792da9425",
   "metadata": {},
   "source": [
    "## adapting a gallery example\n",
    "\n",
    "This is a great exercise which is very close to real life.\n",
    "\n",
    "* Your task is to select one visualization library (some need to be installed first - in doubt choose Matplotlib or Seaborn since they are part of Anaconda installation):\n",
    "    * [Matplotlib](https://matplotlib.org/stable/gallery/index.html): probably the most standard and most widely used\n",
    "    * [Seaborn](https://seaborn.pydata.org/examples/index.html): high-level interface to Matplotlib, statistical functions built in\n",
    "    * [Altair](https://altair-viz.github.io/gallery/index.html): declarative visualization (R users will be more at home), statistics built in\n",
    "    * [Plotly](https://plotly.com/python/): interactive graphs\n",
    "    * [Bokeh](https://demo.bokeh.org/): also here good for interactivity\n",
    "    * [plotnine](https://plotnine.readthedocs.io/): implementation of a grammar of graphics in Python, it is based on [ggplot2](https://ggplot2.tidyverse.org/)\n",
    "    * [ggplot](https://yhat.github.io/ggpy/): R users will be more at home\n",
    "    * [PyNGL](https://www.pyngl.ucar.edu/Examples/gallery.shtml): used in the weather forecast community\n",
    "    * [K3D](https://k3d-jupyter.org/showcase/): Jupyter notebook extension for 3D visualization\n",
    "* Browse the various example galleries (links above).\n",
    "* Select one example that is close to your recent visualization project or simply interests you.\n",
    "* First try to reproduce this example in the Jupyter notebook.\n",
    "* Then try to print out the data that is used in this example just before the call of the plotting function to learn about its structure. Is it a pandas dataframe? Is it a NumPy array? Is it a dictionary? A list? a list of lists?\n",
    "* Then try to modify the data a bit.\n",
    "* If you have time, try to feed it different, simplified data. This will be key for adapting the examples to your projects.\n",
    "\n"
   ]
  },
  {
   "cell_type": "code",
   "execution_count": null,
   "id": "6ea0ea06-ca9c-4865-abd5-ec4036987a16",
   "metadata": {},
   "outputs": [],
   "source": []
  }
 ],
 "metadata": {
  "kernelspec": {
   "display_name": "Python 3 (ipykernel)",
   "language": "python",
   "name": "python3"
  },
  "language_info": {
   "codemirror_mode": {
    "name": "ipython",
    "version": 3
   },
   "file_extension": ".py",
   "mimetype": "text/x-python",
   "name": "python",
   "nbconvert_exporter": "python",
   "pygments_lexer": "ipython3",
   "version": "3.10.8"
  }
 },
 "nbformat": 4,
 "nbformat_minor": 5
}
