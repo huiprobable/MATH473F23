{
 "cells": [
  {
   "cell_type": "markdown",
   "id": "e74034e2-76c7-4ad3-bfff-bf3def298403",
   "metadata": {},
   "source": [
    "# Assignment 02\n",
    "\n",
    "Due 11:59pm, Sep 14. Please submit one .ipynb file to Beachboard. "
   ]
  },
  {
   "cell_type": "markdown",
   "id": "aad57d23-4d52-4de0-a6cb-99b7fed84a91",
   "metadata": {},
   "source": [
    "<p style='text-align: right; '> Put your name here </p>\n",
    "<p style='text-align: right; '> Put the date here </p>"
   ]
  },
  {
   "cell_type": "markdown",
   "id": "23e7dc87-44b3-46a1-90e5-2a7bda0c238d",
   "metadata": {},
   "source": [
    "#### Complete all of the following 7 tasks.  \n",
    "\n",
    "1. Reverse a vector. Given a vector, reverse it such that the last element becomes the first, e.g. [1, 2, 3] => [3, 2, 1]\n",
    "\n",
    "2. Create a 2D array with zeros on the borders and 1 inside.\n",
    "\n",
    "3. Create a random array with elements [0, 1), then add 10 to all elements in the range [0.2, 0.7).\n",
    "\n",
    "4. Create a 1D array with 10 random elements. Sort it.\n",
    "\n",
    "5. For the random array in question 4, instead of sorting it, perform an indirect sort. That is, return the list of indices which would index the array in sorted order.\n",
    "\n",
    "6. Create a 4x4 array of zeros, and another 4x4 array of ones. Next combine them into a single 8x4 array with the content of the zeros array on top and the ones on the bottom. Finally, do the same, but create a 4x8 array with the zeros on the left and the ones on the right.\n",
    "\n",
    "7. NumPy functionality Create two 2D arrays and do matrix multiplication first manually (for loop), then using the np.dot function. Use %%timeit to compare execution times. What is happening?"
   ]
  },
  {
   "cell_type": "markdown",
   "id": "c451b33d-2b5c-40e9-8bd8-062f3762f414",
   "metadata": {},
   "source": [
    "This assignment requires a lot of google search and document reading, to find out suitable functions for different tasks. Please have adquate discussions with each other and with me. "
   ]
  },
  {
   "cell_type": "code",
   "execution_count": null,
   "id": "a931201b",
   "metadata": {},
   "outputs": [],
   "source": []
  }
 ],
 "metadata": {
  "kernelspec": {
   "display_name": "Python 3 (ipykernel)",
   "language": "python",
   "name": "python3"
  },
  "language_info": {
   "codemirror_mode": {
    "name": "ipython",
    "version": 3
   },
   "file_extension": ".py",
   "mimetype": "text/x-python",
   "name": "python",
   "nbconvert_exporter": "python",
   "pygments_lexer": "ipython3",
   "version": "3.10.8"
  }
 },
 "nbformat": 4,
 "nbformat_minor": 5
}
