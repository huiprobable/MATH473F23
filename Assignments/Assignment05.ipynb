{
 "cells": [
  {
   "cell_type": "markdown",
   "id": "aa179001-9e32-4bed-bd98-32df05eb37a4",
   "metadata": {},
   "source": [
    "# Assignment 05\n",
    "\n",
    "Due Oct 26, 11:59pm. Please submit one .ipynb file to Beachboard. "
   ]
  },
  {
   "cell_type": "markdown",
   "id": "d47e5566-f268-4246-bc6f-a50566c03a98",
   "metadata": {},
   "source": [
    "<p style='text-align: right; '> Put your name here </p>\n",
    "<p style='text-align: right; '> Put the date here </p>"
   ]
  },
  {
   "cell_type": "markdown",
   "id": "e63d79c5-2286-481c-ac0c-628832dfe872",
   "metadata": {},
   "source": [
    "Consider the $2D$ Poissons equation $$u_{xx}+u_{yy}=f(x,y),\\quad \\text{ with } (x,y)\\in(0,2)\\times(0,2)$$\n",
    "$$u(x=0,y)=g_1(y),\\quad\\quad u(x=2,y)=g_2(y)$$\n",
    "$$u(x,y=0)=h_1(x),\\quad\\quad u(x,y=2)=h_2(x)$$\n",
    "\n",
    "Write a library called relax2D.py, which would include functions with one step of Jacobi Method, Gauss Seidel Method, and Successive Over Relaxing Method, as well as the Poisson solver for 2D. \n",
    "\n",
    "You may refer to *Lec07_JacobiMethod.ipynb* for a 2D example of Poisson solver using Jacobi method. You may refer to *relax.py* and *Lec09_relaxationMethods.ipynb* for how to write the library relax2D.py and how to test the library. \n",
    "\n",
    "There are lecture recordings that are helpful for this assignment, especially *Lecture12.mp4* and *Lecture14.mp4*. \n",
    "\n",
    "Once you finish implementing relax2D.py, you can test it here in this ipynb file with some examples, such as the 2D example in *Lec07_JacobiMethod.ipynb*\n",
    "\n",
    "**You should only submit a relax2D.py file.**\n"
   ]
  },
  {
   "cell_type": "code",
   "execution_count": null,
   "id": "28f9b087-6768-463c-9c46-760620a93076",
   "metadata": {},
   "outputs": [],
   "source": []
  }
 ],
 "metadata": {
  "kernelspec": {
   "display_name": "Python 3 (ipykernel)",
   "language": "python",
   "name": "python3"
  },
  "language_info": {
   "codemirror_mode": {
    "name": "ipython",
    "version": 3
   },
   "file_extension": ".py",
   "mimetype": "text/x-python",
   "name": "python",
   "nbconvert_exporter": "python",
   "pygments_lexer": "ipython3",
   "version": "3.10.8"
  }
 },
 "nbformat": 4,
 "nbformat_minor": 5
}
