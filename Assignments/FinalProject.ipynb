{
 "cells": [
  {
   "cell_type": "markdown",
   "id": "705af285-8274-448b-962e-95229aafac26",
   "metadata": {},
   "source": [
    "# Final Project"
   ]
  },
  {
   "cell_type": "markdown",
   "id": "7672c3b8-4793-4e0c-8090-7dec370e7d90",
   "metadata": {},
   "source": [
    "### Common Part\n",
    "\n",
    "We would like to solve the following PDE with Neumann boundary condition:\n",
    "\n",
    "$$au-b\\Delta u = f\\quad\\text{ for }\\quad (x,y)\\in [0,L]\\times[0,L] $$\n",
    "$$\\frac{\\partial u}{\\partial x}(x=0,y)=g_1(y)$$\n",
    "$$\\frac{\\partial u}{\\partial x}(x=L,y)=g_2(y)$$\n",
    "$$\\frac{\\partial u}{\\partial y}(x,y=0)=h_1(x)$$\n",
    "$$\\frac{\\partial u}{\\partial y}(x,y=L)=h_2(x)$$\n",
    "\n",
    "where $a\\geq0$ and $b>0$ are both parameters. \n",
    "\n",
    "Please implement the following methods to solve this problem numerically: \n",
    "* Jacobi method\n",
    "* Gauss Seidel (GS) method\n",
    "* Successive Over Relaxation (SOR) method\n",
    "* Conjugate Gradient (CG) method\n",
    "* Preconditional Conjugate Gradient (PCG) method\n",
    "\n",
    "*For PCG method, you may try Incomplete LU factorization as the preconditioner. You may use the function spilu in scipy library.*\n",
    "\n",
    "After implementing these methods, you may create a few examples, for which you know the exact solution $u^*$. Then from $u^*$, you can calculate \n",
    "$$f(x,y)=au^*-b\\Delta u^*$$\n",
    "$$g_1(y) = \\frac{\\partial u^*}{\\partial x}(x=0,y)$$\n",
    "$$g_2(y) = \\frac{\\partial u^*}{\\partial x}(x=L,y)$$\n",
    "$$h_1(x) = \\frac{\\partial u^*}{\\partial x}(x,y=0)$$\n",
    "$$h_2(x) = \\frac{\\partial u^*}{\\partial x}(x,y=L)$$\n",
    "\n",
    "With $f$, $g_1$, $g_2$, $h_1$, $h_2$ calculated, you may then use these five methods to solve for the PDE system, and plot the log of residue versus the number of iterations $k$, where the residue is defined as $\\rho^{(k)}=\\|{\\bf b}-A{\\bf u}^{(k)}\\|_{2}$. From there, you shall be able to compare the efficiency of all five numerical methods. \n",
    "\n",
    "Please also compare your numerical solution with the exact solution $u^*$, by comparing their graphs, and looking at the graph of $u^{(k)}-u^*$. \n"
   ]
  },
  {
   "cell_type": "markdown",
   "id": "4944cb44-d744-4408-9387-076eeb1e1a25",
   "metadata": {},
   "source": [
    "### Group Specific Part\n",
    "\n",
    "**Group 1**: Error analysis. \n",
    "\n",
    "First, do some analysis to show that the numerical solutions should have second order convegence. A similar example in 1D is given in class time on Oct 24. You may refer to the lecture notes. \n",
    "\n",
    "To verify if you get the solvers implemented correctly, you need to check the convergence of the numerical solutions. You may plot $\\log(\\|{\\bf u}^h-{\\bf u}^*\\|_{2})$ versus $\\log h$ with various choices of $h$. You should get a line with slope 2. Here ${\\bf u}^h$ is the numerical solution so that $A{\\bf u}^h={\\bf b}$ and ${\\bf u}^*$ is the exact solution. \n",
    "\n",
    "**Group 2**: ILU for PCG. \n",
    "\n",
    "Explain and implement Incomplete LU factorization for PCG. Your implementation needs to be for sparse matrix $A$, and resulting in two sparse upper- and lower-triangular matrices $L$ and $U$, so that $LU=P\\approx A$. In the PCG algorithm, $P^{-1}{\\bf r}$ can be applied as $U^{-1}L^{-1}{\\bf r}$ through forward and backward substitution. \n"
   ]
  },
  {
   "cell_type": "markdown",
   "id": "698ed788-e12f-4f05-ae2d-14cbe90e3851",
   "metadata": {},
   "source": [
    "## Presentation"
   ]
  },
  {
   "cell_type": "markdown",
   "id": "3585ca9a-2ade-4cf4-8a72-75ef9c69fb1d",
   "metadata": {},
   "source": [
    "After you finish the project, we will present it in our last class. Each one will be assigned a different portion to present. As a whole, the seven of you will give a complete story. "
   ]
  },
  {
   "cell_type": "code",
   "execution_count": null,
   "id": "3a5121ae-d5a2-4473-b694-64c86d24e797",
   "metadata": {},
   "outputs": [],
   "source": []
  }
 ],
 "metadata": {
  "kernelspec": {
   "display_name": "Python 3 (ipykernel)",
   "language": "python",
   "name": "python3"
  },
  "language_info": {
   "codemirror_mode": {
    "name": "ipython",
    "version": 3
   },
   "file_extension": ".py",
   "mimetype": "text/x-python",
   "name": "python",
   "nbconvert_exporter": "python",
   "pygments_lexer": "ipython3",
   "version": "3.10.8"
  }
 },
 "nbformat": 4,
 "nbformat_minor": 5
}
