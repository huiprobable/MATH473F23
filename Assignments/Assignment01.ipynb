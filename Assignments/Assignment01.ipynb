{
 "cells": [
  {
   "cell_type": "markdown",
   "id": "7584909f-4f47-47d5-abf0-c552bd5e47c8",
   "metadata": {},
   "source": [
    "# Assignment 01\n",
    "\n",
    "Due 11:59pm, 8/31. Please submit one .ipynb file to Canvas. "
   ]
  },
  {
   "cell_type": "markdown",
   "id": "e9250165-6068-40a0-8898-2f5933373dc3",
   "metadata": {},
   "source": [
    "<p style='text-align: right; '> Put your name here </p>\n",
    "<p style='text-align: right; '> Put the date here </p>"
   ]
  },
  {
   "cell_type": "markdown",
   "id": "8f56c453-2ea7-4dee-aa78-83ca425fb10e",
   "metadata": {},
   "source": [
    "**In this assignment, please select a mathematical topic to write something about it. Explain it to the readers using Markdown language, include some math formulas in your writing, using Latex syntax. Also do an example related to the topic using Python. Some example topics would include: Newton's method, simpson's rule, Forward Euler method, determinant of a matrix, etc. Here I give an example on bisection method:**\n",
    "_____________________________"
   ]
  },
  {
   "cell_type": "markdown",
   "id": "0a294544-1f7a-42e7-9ca8-2633f2146671",
   "metadata": {},
   "source": [
    "Bisection method is a numerical method for finding zeros of a continuous function $f$. Given an interval $[a, b]$, assuming $f(a)*f(b)<0$, there has to be a root $x^*\\in[a,b]$, such that $f(x^*)=0$. The algorithm of bisection method works in this way: \n",
    "1. First, choose the midpoint $c=(a+b)/2$\n",
    "2. Then we need to determine whether the root is in $[a, c]$ or in $[c, b]$. \n",
    "    - If $f(a)\\cdot f(c)<0$, that means the root should be in $[a, c]$. In this case, we can let $b\\leftarrow c$.\n",
    "    - If $f(c)\\cdot f(b)<0$, that means the root should be in $[c, b]$. In this case, we can let $a\\leftarrow c$.\n",
    "3. Now with the new interval $[a,b]$, we can go back to and continue from step 1. \n",
    "\n",
    "The algorithm will lead to an approximation $c$ of the root $x^*$, where $|c-x^*|\\leq|a-b|$. So we can say that it converges when $|c-x^*|\\leq\\epsilon$"
   ]
  },
  {
   "cell_type": "markdown",
   "id": "ec38b089-aa08-4a08-9fd1-a4cd0d8a70dd",
   "metadata": {},
   "source": [
    "Now let's work on an example: $$f(x)=\\left(x+\\frac{1}{3}\\right)\\left(x-\\frac{1}{3}\\right)$$ First, let us define the function f this way:"
   ]
  },
  {
   "cell_type": "code",
   "execution_count": 12,
   "id": "f42124ae-3067-43e9-83c8-9e2882552160",
   "metadata": {},
   "outputs": [],
   "source": [
    "def f(x):\n",
    "    return (x+1/3)*(x-1/3)"
   ]
  },
  {
   "cell_type": "markdown",
   "id": "d4030a90-6abd-4d14-9408-f2ae039ea12c",
   "metadata": {},
   "source": [
    "With this $f$, clearly there is a root in the interval $[0,2]$, and the root should be $x^*=0.3333\\ldots$. So we implement the bisection algorithm here. "
   ]
  },
  {
   "cell_type": "code",
   "execution_count": 13,
   "id": "efb0541d-f235-4ac9-b3ea-e4e803ca7a5d",
   "metadata": {},
   "outputs": [
    {
     "name": "stdout",
     "output_type": "stream",
     "text": [
      "0.33333301544189453\n"
     ]
    }
   ],
   "source": [
    "eps = 1e-6\n",
    "a = 0\n",
    "b = 2\n",
    "\n",
    "while (abs(a-b)>=eps):\n",
    "    c = (a+b)/2\n",
    "    if f(a)*f(c)<0:\n",
    "        b = c\n",
    "    elif f(b)*f(c)<0:\n",
    "        a = c\n",
    "    else:\n",
    "        break  # break out from the loop, because this other case happens only when f(c)=0\n",
    "\n",
    "print(c)"
   ]
  },
  {
   "cell_type": "markdown",
   "id": "ee3ab8c3-0814-4dd6-bcdf-165f87cdebe8",
   "metadata": {},
   "source": [
    "We can also make the bisection method into a function, and take in eps, a, and b as arguments to that function. "
   ]
  },
  {
   "cell_type": "code",
   "execution_count": 22,
   "id": "6453d272-852c-4d43-beaf-a4777de81336",
   "metadata": {},
   "outputs": [],
   "source": [
    "def bisection(g, eps, a, b):\n",
    "    if g(a) == 0:\n",
    "        return a   # This takes care of the case where a is already a root.\n",
    "    elif g(b) == 0:\n",
    "        return b   # This takes care of the case where b is already a root.\n",
    "    while (abs(a-b)>=eps):\n",
    "        c = (a+b)/2\n",
    "        if g(a)*g(c)<0:\n",
    "            b = c\n",
    "        elif g(b)*g(c)<0:\n",
    "            a = c\n",
    "        else:\n",
    "            break  # break out from the loop, because this other case happens only when f(c)=0\n",
    "    return c # pay attension to the indentation here. Important !!!"
   ]
  },
  {
   "cell_type": "markdown",
   "id": "b424fe3c-17c4-464e-bd1e-065231a596a2",
   "metadata": {},
   "source": [
    "Python pays attention to the indentation of the code. Notice that for the block of code within the while loop, those lines are indented several blanks to the right from the horizontal position of while loop. Those lines inside if statements are indented several blanks to the right from the horizontal position of if statement. Moreover, notice how the last line is indented, indicating that it is not part of the while loop. Here's a question for you: If you indent it further to be included in the while loop, what result would you expect? Why not try it out? \n",
    "\n",
    "You may refer to the following document on python indentation: [https://www.w3schools.com/python/gloss_python_indentation.asp](https://www.w3schools.com/python/gloss_python_indentation.asp)"
   ]
  },
  {
   "cell_type": "code",
   "execution_count": 24,
   "id": "a71a90f9-d966-4ac3-a0cf-cfc7142156d7",
   "metadata": {},
   "outputs": [
    {
     "data": {
      "text/plain": [
       "0.3333333358168602"
      ]
     },
     "execution_count": 24,
     "metadata": {},
     "output_type": "execute_result"
    }
   ],
   "source": [
    "bisection(f, 1e-8, 0, 2) # Here we find a root in between 0 and 2. "
   ]
  },
  {
   "cell_type": "code",
   "execution_count": 25,
   "id": "cc94700e-bf6b-419a-b1ff-454a1dde22dc",
   "metadata": {},
   "outputs": [
    {
     "data": {
      "text/plain": [
       "-0.3333333358168602"
      ]
     },
     "execution_count": 25,
     "metadata": {},
     "output_type": "execute_result"
    }
   ],
   "source": [
    "bisection(f, 1e-8, -2, 0) # Here we find a root in between -2 and 0. "
   ]
  },
  {
   "cell_type": "code",
   "execution_count": null,
   "id": "34164e7c-8ff1-470d-9a3f-37e727d9799b",
   "metadata": {},
   "outputs": [],
   "source": []
  }
 ],
 "metadata": {
  "kernelspec": {
   "display_name": "Python 3 (ipykernel)",
   "language": "python",
   "name": "python3"
  },
  "language_info": {
   "codemirror_mode": {
    "name": "ipython",
    "version": 3
   },
   "file_extension": ".py",
   "mimetype": "text/x-python",
   "name": "python",
   "nbconvert_exporter": "python",
   "pygments_lexer": "ipython3",
   "version": "3.10.8"
  }
 },
 "nbformat": 4,
 "nbformat_minor": 5
}
