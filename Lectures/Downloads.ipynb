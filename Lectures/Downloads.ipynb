{
 "cells": [
  {
   "cell_type": "markdown",
   "id": "de7d50d8-df36-4436-81f9-4a9e78232270",
   "metadata": {},
   "source": [
    "# Download and Install Software Packages"
   ]
  },
  {
   "cell_type": "markdown",
   "id": "393bb199-1835-4b0d-92eb-77386044a625",
   "metadata": {},
   "source": [
    "## Github desktop\n",
    "\n",
    "Our webpage for this class is in github. Git is a version control software, when developers develop software packages, they always need to keep track of and switch back and forth from different versions, especially when they work in teams. Github is a user-friendly website that combines Git with some other programming languages. In this class, we use Github to combine Python with Git. In your local computer, you may use a software called *Github desktop* for accessing the course content. \n",
    "\n",
    "* If you are using *Windows* or *MacOS*, you can download the Github desktop software through [this link](https://desktop.github.com/). After downloading, the installing process should be straightforward. \n",
    "\n",
    "* If you are using *Linux*, you may download and install the Github desktop software by following [this link](https://gist.github.com/berkorbay/6feda478a00b0432d13f1fc0a50467f1), download the file github_desktop_ubuntu.sh, and run this file in your terminal. It's possible that you need to uncomment a line in that file in order to install a supporting package. \n",
    "\n",
    "Using Github, you may pull the remote github repository, and have it updated in your local computer. "
   ]
  },
  {
   "cell_type": "markdown",
   "id": "aa6d5641-722c-4bb5-bc10-794c1f5874c1",
   "metadata": {},
   "source": [
    "## Git (optional)\n",
    "\n",
    "An alternative choice for Github desktop is **Git**. With Git, you will be working on a terminal, or shell command prompt, instead of a Graphical User Interface, like **Github Desktop**. That means, you don't click on buttons to do things, but you type in commands to do things. \n",
    "\n",
    "* In Windows, you can download and install [**MinGW**](https://www.mingw-w64.org/), and **GitBash** comes with it. **Git** is contained within **GitBash**. Using GitBash, you may type in Linux like commands in a command window.\n",
    "\n",
    "* In Linux, you can download and install **Git** by openning a terminal and type in the commands:\n",
    "\n"
   ]
  },
  {
   "cell_type": "code",
   "execution_count": 10,
   "id": "1bc49624-5a82-4945-ae51-decee09ce838",
   "metadata": {},
   "outputs": [],
   "source": [
    "%%sh\n",
    "## To install git in linux, uncomment the following two lines by deleting #\n",
    "# sudo apt-get update\n",
    "# sudo apt-get install git"
   ]
  },
  {
   "cell_type": "markdown",
   "id": "6dfb14f9-592a-4a8c-bc5b-7fcbe830fd18",
   "metadata": {},
   "source": [
    "* In MacOS Mavericks (10.9) or above, git is already installed for you. You may just open a terminal and call the git command. f your MacOS version is below 10.9, **git** comes with xcode commnand line tools, which you can install by typing in your terminal "
   ]
  },
  {
   "cell_type": "code",
   "execution_count": 11,
   "id": "1f888784-5d54-483e-ba34-22d3c6e5c30a",
   "metadata": {},
   "outputs": [],
   "source": [
    "%%sh\n",
    "## To install xcode commandline tools in MacOS, uncomment the following line by deleting #\n",
    "# xcode-select --install"
   ]
  },
  {
   "cell_type": "markdown",
   "id": "7a6aba22-b1ba-4d25-99c8-6abe2c4608f9",
   "metadata": {},
   "source": [
    "## Python and Jupyter Notebook"
   ]
  },
  {
   "cell_type": "markdown",
   "id": "c108660d-b665-4452-8b6c-342556fd1d82",
   "metadata": {},
   "source": [
    "* A very popular way to install **Python** and **Jupyter Notebook** is through another software called **Anaconda**. You may download **Anaconda** [here](https://docs.anaconda.com/anaconda/install/), which link also has detailed description on how you can download and install the package in all three systems, *Windows*, *Linux*, and *MacOS*. Using *Anaconda*. Installing **Anaconda** will get **Python** and **Jupyter Notebook** installed too. Here are two more websites for installing **Anaconda** with **Python** and **Jupyter Notebook** in [Linux system](https://mas-dse.github.io/startup/anaconda-ubuntu-install/) and in [MacOS](https://mas-dse.github.io/startup/anaconda-macosx-install/).  "
   ]
  },
  {
   "cell_type": "markdown",
   "id": "bbfc8c9d-c0c3-4200-a722-aef7d22e3218",
   "metadata": {},
   "source": [
    "* Alternatively, you may use **pip** to install **Python** and **Jupyter Notebook** in Linux, following [this link for pip and Python](https://linuxize.com/post/how-to-install-pip-on-ubuntu-20.04/) and [this link for Jupyter](https://speedysense.com/install-jupyter-notebook-on-ubuntu-20-04/). "
   ]
  },
  {
   "cell_type": "markdown",
   "id": "31080358-9370-40e1-86d7-969dead878bd",
   "metadata": {},
   "source": [
    "* In MacOS, you may choose to install **Python** and **pip** using **homebrew**, see [this link](https://www.geeksforgeeks.org/download-and-install-python-3-latest-version/#macos) for details; and then install **Jupyter Notebook** using **pip**, following the steps in [this link](https://www.geeksforgeeks.org/how-to-install-jupyter-notebook-on-macos/).  "
   ]
  },
  {
   "cell_type": "markdown",
   "id": "10f00bf3-f2f2-4941-b70d-2e2777affec7",
   "metadata": {},
   "source": [
    "## Python Libraries\n",
    "\n",
    "You probably need to install some Python libraries. This can be down either using **anaconda** or **pip**. For example, the following link walks you through the steps of installing [NumPy](https://numpy.org/install/). The command for installation is usually either"
   ]
  },
  {
   "cell_type": "code",
   "execution_count": 13,
   "id": "ffe96448-49c4-4bc6-ab92-dd37f92615cf",
   "metadata": {},
   "outputs": [],
   "source": [
    "%%sh\n",
    "# conda install numpy"
   ]
  },
  {
   "cell_type": "markdown",
   "id": "25ce278f-8476-4bfd-b13e-f61a51889335",
   "metadata": {},
   "source": [
    "or"
   ]
  },
  {
   "cell_type": "code",
   "execution_count": 15,
   "id": "b259cecd-69c9-42fb-8b98-1c08835f87c5",
   "metadata": {},
   "outputs": [],
   "source": [
    "%%sh\n",
    "# pip install numpy"
   ]
  },
  {
   "cell_type": "markdown",
   "id": "fd646388-c029-4990-aa82-112cc58c1e02",
   "metadata": {},
   "source": [
    "If you want to install other libraries, you can replace *numpy* with the name of the other library. "
   ]
  },
  {
   "cell_type": "code",
   "execution_count": null,
   "id": "56be18a8-d4d6-411c-88bf-06360d16cc9a",
   "metadata": {},
   "outputs": [],
   "source": []
  }
 ],
 "metadata": {
  "kernelspec": {
   "display_name": "Python 3 (ipykernel)",
   "language": "python",
   "name": "python3"
  },
  "language_info": {
   "codemirror_mode": {
    "name": "ipython",
    "version": 3
   },
   "file_extension": ".py",
   "mimetype": "text/x-python",
   "name": "python",
   "nbconvert_exporter": "python",
   "pygments_lexer": "ipython3",
   "version": "3.9.6"
  }
 },
 "nbformat": 4,
 "nbformat_minor": 5
}
