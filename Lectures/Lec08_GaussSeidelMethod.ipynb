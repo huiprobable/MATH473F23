{
 "cells": [
  {
   "cell_type": "markdown",
   "id": "4d7db846-b253-4ad8-87d8-be8c9a07a495",
   "metadata": {},
   "source": [
    "# Gauss Seidel Method\n",
    "\n",
    "Gauss Seidel method is another stationary iterative method for solving a linear system $$A{\\bf x}={\\bf b}$$ It splits the matrix $A=D+U+L$, where $D$ represents the diagonal of the matrix $A$, and $U$ and $L$ represent the upper and lower triangular parts of the matrix $A$, respectively. Let ${\\bf x}^{(k)}$ denotes the $k$-th iteration of the approximated solution, then the Gauss Seidel method reads $${\\bf x}^{(k+1)}=(L+D)^{-1}\\left({\\bf b}-U{\\bf x}^{(k)}\\right)$$\n",
    "\n",
    "Or componentwisely, it can be written as\n",
    "\n",
    "$$x_i^{(k+1)}=\\frac{1}{a_{ii}}\\left(b_i-\\sum_{j=0}^{i-1}a_{ij}x_j^{(k+1)}-\\sum_{j=i+1}^{n}a_{ij}x_j^{(k)}\\right)$$"
   ]
  },
  {
   "cell_type": "markdown",
   "id": "40909048-bd6c-42bd-9f9d-8428a7718b4e",
   "metadata": {},
   "source": [
    "* Now, let's try to use Gauss Seidel Method to solve a one dimentional Poissons equation:\n",
    "$$-u_{xx}=\\pi^2\\sin{\\pi x} \\quad\\text{ for } x\\in(0,1)$$\n",
    "$$\\text{with}\\quad u(0)=u(1)=0$$\n"
   ]
  },
  {
   "cell_type": "code",
   "execution_count": null,
   "id": "5bd414ea-dd7b-483c-bbea-1c193a462e0a",
   "metadata": {},
   "outputs": [],
   "source": []
  },
  {
   "cell_type": "markdown",
   "id": "bf27e514-dbf6-4e31-bf23-49bbd1e27804",
   "metadata": {},
   "source": [
    "* Let's try to use Gauss Seidel Method to solve a $2D$ Poissons equation. \n",
    "$$-u_{xx}-u_{yy}=2\\pi^2\\sin{\\pi x}\\cos{\\pi y} \\quad\\text{ for } x\\in(0,1)\\text{ and } y\\in(0,1)$$\n",
    "$$\\text{with}\\quad u(0,y)=u(1,y)=0$$\n",
    "$$\\text{and }\\quad u(x,0)=\\sin{\\pi x}\\quad u(x,1)=-\\sin{\\pi x}$$"
   ]
  },
  {
   "cell_type": "code",
   "execution_count": null,
   "id": "fa045c45-82a3-4fc0-8201-0ad27313f2c5",
   "metadata": {},
   "outputs": [],
   "source": []
  },
  {
   "cell_type": "markdown",
   "id": "d1ec7229-d4e1-4c56-af9e-00ae63ff1411",
   "metadata": {},
   "source": [
    "### Error Analysis on Jacobi and Gauss Seidel methods\n",
    "\n",
    "For a linear system $A{\\bf x}={\\bf b}$\n",
    "* the error is defined as: $$e^{(k)}=\\|{\\bf x}^{(k)}-{\\bf x}\\|_{2}=\\sqrt{\\sum_{i=1}^{n}\\left(x^{(k)}_i-x_i\\right)^2}$$\n",
    "* the residue is defined as: $$r^{(k)}=\\|{\\bf b}-A{\\bf x}^{(k)}\\|_{2}=\\sqrt{\\sum_{i=1}^{n}\\left(b_i-\\sum_{j=1}^{n}A_{ij}x_j^{(k)}\\right)^2}$$\n",
    "\n",
    "* Now instead of using for-loops, we can use while-loops to implement Jacobi and Gauss Seidel methods. \n",
    "* The stopping criteria for the while loop should be $r^{(k)}<\\epsilon$"
   ]
  },
  {
   "cell_type": "code",
   "execution_count": null,
   "id": "42164520-b6b9-44db-ae84-93c4ae062761",
   "metadata": {},
   "outputs": [],
   "source": []
  }
 ],
 "metadata": {
  "kernelspec": {
   "display_name": "Python 3 (ipykernel)",
   "language": "python",
   "name": "python3"
  },
  "language_info": {
   "codemirror_mode": {
    "name": "ipython",
    "version": 3
   },
   "file_extension": ".py",
   "mimetype": "text/x-python",
   "name": "python",
   "nbconvert_exporter": "python",
   "pygments_lexer": "ipython3",
   "version": "3.10.8"
  }
 },
 "nbformat": 4,
 "nbformat_minor": 5
}
