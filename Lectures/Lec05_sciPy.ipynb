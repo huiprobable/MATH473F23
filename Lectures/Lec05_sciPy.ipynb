{
 "cells": [
  {
   "cell_type": "markdown",
   "id": "ba8ea359-f511-439e-ad25-47cbaee43324",
   "metadata": {},
   "source": [
    "# Scipy"
   ]
  },
  {
   "cell_type": "markdown",
   "id": "ea857b55-368a-481f-af4c-b2b4376bd0d2",
   "metadata": {},
   "source": [
    "### difference between NumPy and SciPy\n",
    "\n",
    "NumPy and SciPy both are very important libraries in Python. They have a wide range of functions and contrasting operations.\n",
    "\n",
    "NumPy is short for Numerical Python while SciPy is an abbreviation of Scientific Python. Both are modules of Python and are used to perform various operations with the data.\n",
    "\n",
    "Description\n",
    "\n",
    "* NumPy: It provides extended functionalities to Python and provides a user-friendly ambiance. It allows efficient operations on homogeneous data stored in specially designed arrays called NumPy arrays. It also helps manipulate numerical data.\n",
    "\n",
    "* SciPy: It contains a variety of sub-packages and has a collection of scientific functions, including clustering, image processing, integration, differentiation, gradient optimization, etc. The reason it is preferred over other tools is its speed. All the numerical computing in Python is done via SciPy.\n",
    "\n",
    "The differences between these libraries are as follows:\n",
    "\n",
    "**Difference between NumPy and SciPy**\n",
    "_________________________________________________\n",
    "| Point of Difference      | NumPy | SciPy  |\n",
    "| ----------- | ----------- | ----------- |\n",
    "| Type of operations      | Performs basic operations such as sorting, indexing, etc. It is mostly used when working with data science and statistical concepts.       | Used for complex operations such as algebraic functions, various numerical algorithms, etc. |\n",
    "|Functions | Contains a variety of functions but these are not defined in depth. | Contains detailed versions of the functions like linear algebra that are completely featured.|\n",
    "| Arrays | NumPy Arrays are multi-dimensional arrays of objects which are of the same type i.e.  homogeneous. | SciPy does not have any such array concepts as it is more functional. It has no constraints of homogeneity. |\n",
    "| Base Language of creation and speed | NumPy is written in C and so has a faster computational speed. | SciPy is written in Python and so has a slower execution speed but vast functionality. But there are modules containing low-level functions from BLAS/LAPACK libraries, which uses fortran, and should be fast.| \n",
    "| Array Memory | Nonsparse, large memory | Sparse, much less memory | \n",
    "|Convenience| ndarray is very easy to define and very visual | sparse matrices are not as visual |\n",
    "_________________________________________________\n",
    "\n",
    "\n",
    "Conclusion\n",
    "\n",
    "NumPy and SciPy are both important Python libraries in terms of convenience and their wide range of functions, modules, and packages. They deal with mathematical computations and are useful in data science, machine learning, deep learning, etc.\n",
    "\n",
    "Although conceptually different, they have similar functionalities. Their combined functions are necessary and helpful to work on various numerical/mathematical technologies, making our lives a lot more simple.\n",
    "\n",
    "In this class, we will explore a little more on the Scipy, for dealing with sparse matrices, finding their applications in Numerical Differential Equations, Numerical Integrations, Interpolations, and Image Processing. "
   ]
  },
  {
   "cell_type": "markdown",
   "id": "275c2fa4-c2d8-40dd-8381-30738bab0b8e",
   "metadata": {},
   "source": [
    "### Difference between numpy ndarray and scipy sparse matrices\n",
    "\n",
    "How do I create a numpy ndarray? \n",
    "\n",
    "* [Array creation](https://numpy.org/doc/stable/user/basics.creation.html)\n",
    "* [NumPy for MATLAB users](https://numpy.org/doc/stable/user/numpy-for-matlab-users.html)\n",
    "\n",
    "How do I create a scipy sparse matrix?\n",
    "\n",
    "* [Sparse matrices](https://docs.scipy.org/doc/scipy/reference/sparse.html)"
   ]
  },
  {
   "cell_type": "code",
   "execution_count": 1,
   "id": "e8f78db6-f532-484e-bd0b-d04428e70193",
   "metadata": {},
   "outputs": [],
   "source": [
    "%matplotlib inline\n",
    "import matplotlib.pyplot as plt\n",
    "import scipy.sparse as sp\n",
    "import numpy as np\n",
    "n = 2000\n",
    "row = np.concatenate((np.arange(n), np.arange(n-1), np.arange(n-1)+1))\n",
    "col = np.concatenate((np.arange(n), np.arange(n-1)+1, np.arange(n-1)))\n",
    "data = np.concatenate((2*np.ones(n), -1*np.ones(n-1), -1*np.ones(n-1))) \n",
    "X1 = sp.csr_matrix((data, (row, col)), shape=(n, n))\n",
    "X2 = np.array(X1)\n",
    "X3 = X1.toarray()\n",
    "# In this case, both X1 and X2 are sparse, and X3 is dense.\n",
    "#print(type(X1), type(X2))\n",
    "#print(X1)\n",
    "#print(X2)\n",
    "#print(X3)"
   ]
  },
  {
   "cell_type": "markdown",
   "id": "052362aa-5448-4c4f-838a-667e8820a5bc",
   "metadata": {},
   "source": [
    "How do I check memory and efficiency?\n",
    "\n",
    "* Check the memory usage of python objects: [sys.getsizeof](https://stackoverflow.com/questions/33978/find-out-how-much-memory-is-being-used-by-an-object-in-python)\n",
    "* Calculate computation time to micro seconds: [datatime](https://stackoverflow.com/questions/766335/python-speed-testing-time-difference-milliseconds)\n"
   ]
  },
  {
   "cell_type": "code",
   "execution_count": 79,
   "id": "1f5c5a2f-7da1-4656-b3c6-8ed102d3dc1e",
   "metadata": {},
   "outputs": [
    {
     "data": {
      "text/plain": [
       "480280"
      ]
     },
     "execution_count": 79,
     "metadata": {},
     "output_type": "execute_result"
    }
   ],
   "source": [
    "import sys\n",
    "sys.getsizeof(X3) # the size of ndarray increases with n, it scales in O(n^2)\n",
    "\n",
    "sys.getsizeof(X1) \n",
    "# this doesn't give you the correct size of the sparse matrix\n",
    "sys.getsizeof(col)+sys.getsizeof(row)+sys.getsizeof(data) \n",
    "# this is the size of the sparse matrix, it scales in O(n)"
   ]
  },
  {
   "cell_type": "markdown",
   "id": "dde3245e-acbf-443a-81d7-e64a26f6f001",
   "metadata": {},
   "source": [
    "An example of finding eigenvalues. \n",
    "$$A{\\bf v}=\\lambda{\\bf v}$$\n",
    "* Numpy functions such as *eig, eigvals, eigvalh, eigvalhs* are not for sparse matrices, and can only be used to find all the eigenvalues of the input matrix. \n",
    "* Scipy functions such as *eigs, eigsh* are for sparse matrices, and they are used to find the first a few eigenvalues, not the full list of eigenvalues. "
   ]
  },
  {
   "cell_type": "code",
   "execution_count": 9,
   "id": "30cf72d2",
   "metadata": {},
   "outputs": [
    {
     "data": {
      "text/plain": [
       "5.413639"
      ]
     },
     "execution_count": 9,
     "metadata": {},
     "output_type": "execute_result"
    }
   ],
   "source": [
    "import numpy.linalg as la\n",
    "import datetime\n",
    "a = datetime.datetime.now()\n",
    "w, v = la.eig(X3)\n",
    "b = datetime.datetime.now()\n",
    "c = b-a\n",
    "c.total_seconds()"
   ]
  },
  {
   "cell_type": "code",
   "execution_count": 6,
   "id": "28165d89",
   "metadata": {},
   "outputs": [
    {
     "data": {
      "text/plain": [
       "2.173534"
      ]
     },
     "execution_count": 6,
     "metadata": {},
     "output_type": "execute_result"
    }
   ],
   "source": [
    "import datetime\n",
    "import scipy.sparse.linalg as sla\n",
    "a = datetime.datetime.now()\n",
    "w, v = sla.eigs(X1)\n",
    "b = datetime.datetime.now()\n",
    "c = b-a\n",
    "c.total_seconds()"
   ]
  },
  {
   "cell_type": "code",
   "execution_count": 7,
   "id": "85249f86",
   "metadata": {},
   "outputs": [
    {
     "data": {
      "text/plain": [
       "86.453094"
      ]
     },
     "execution_count": 7,
     "metadata": {},
     "output_type": "execute_result"
    }
   ],
   "source": [
    "a = datetime.datetime.now()\n",
    "w, v = sla.eigs(X3)\n",
    "b = datetime.datetime.now()\n",
    "c = b-a\n",
    "c.total_seconds()"
   ]
  },
  {
   "cell_type": "markdown",
   "id": "7c9e7275-9a48-48fe-bb42-d9d27f2432fe",
   "metadata": {},
   "source": [
    "### Basic linear algebra operations\n",
    "\n",
    "What are the important numerical linear algebra operations and routines and how can we call them?"
   ]
  },
  {
   "cell_type": "code",
   "execution_count": 26,
   "id": "0b6701e6-7f5d-42ef-abc2-e9911be72f99",
   "metadata": {},
   "outputs": [],
   "source": [
    "# For numpy array, @ can be used as dot product for matrix matrix ...\n",
    "# multiplication or matrix vector multiplication. \n",
    "a = np.array([[1, 2,3],[3,4,2],[1,0,1]])\n",
    "b = np.array([[1,1,1],[-1,-1,-1],[0,0,0.5]])\n",
    "#print(\"a = \",a)\n",
    "#print(\"b = \",b)\n",
    "#print(\"a*b = \",a@b) # this is for matrix multiplication\n",
    "#print(\"a*b = \",np.dot(a,b))\n",
    "c = np.array([1,2,3])\n",
    "#print(\"a*c = \", a@c) # @ is the operator for dot product. \n",
    "\n",
    "# For scipy sparse matrix, ?\n",
    "import scipy.sparse as sp\n",
    "n = 5\n",
    "row = np.concatenate((np.arange(n), np.arange(n-1), np.arange(n-1)+1))\n",
    "col = np.concatenate((np.arange(n), np.arange(n-1)+1, np.arange(n-1)))\n",
    "data = np.concatenate((2*np.ones(n), -1*np.ones(n-1), -1*np.ones(n-1))) \n",
    "X1 = sp.csr_matrix((data, (row, col)), shape=(n, n))\n",
    "x = np.array([1,2,3,2,1])\n",
    "#print(\"X1*x\", X1@x) # @ can be used for sparse matrix multiply a vector\n",
    "#print(\"X1*x\", X1*x) # * can be used for sparse matrix multiply a vector\n",
    "#print(\"X1*x\", np.dot(X1,x)) # numpy.dot does not work on sparse matrix\n",
    "X2 = X1@X1 # @ can be used for multiplication of sparse matrices\n",
    "#print(\"X1*X1 = \", X2.toarray())\n",
    "X2 = X1*X1 # * can be used for multiplication of sparse matrices\n",
    "#print(\"X1*X1 = \", X2.toarray())"
   ]
  },
  {
   "cell_type": "markdown",
   "id": "eccef79a",
   "metadata": {},
   "source": [
    "An interesting function *numpy.multi_dot*\n",
    "\n",
    "*multi_dot* chains *numpy.dot* and uses optimal parenthesization of the matrices. Depending on the shapes of the matrices, this can speed up the multiplication a lot."
   ]
  },
  {
   "cell_type": "code",
   "execution_count": 36,
   "id": "a336d743",
   "metadata": {},
   "outputs": [
    {
     "name": "stdout",
     "output_type": "stream",
     "text": [
      "a*b*a =  [[-3.5 -6.  -4.5]\n",
      " [-4.  -6.  -5. ]\n",
      " [ 5.5  6.   6.5]]\n",
      "a*b*a =  [[-3.5 -6.  -4.5]\n",
      " [-4.  -6.  -5. ]\n",
      " [ 5.5  6.   6.5]]\n"
     ]
    }
   ],
   "source": [
    "print(\"a*b*a = \",np.linalg.multi_dot([a,b,a])) \n",
    "# use a list to include all the matrices\n",
    "print(\"a*b*a = \",np.linalg.multi_dot((a,b,a))) # may also use a tuple\n",
    "#print(\"X1*X1*X1 = \",np.linalg.multi_dot([X1,X1,X1])) \n",
    "# numpy.linalg.multi_dot does not work for sparse matrix. \n"
   ]
  },
  {
   "cell_type": "code",
   "execution_count": 50,
   "id": "f7309dea",
   "metadata": {},
   "outputs": [],
   "source": [
    "# Let's do a time cost comparison between dense matrix and sparse matrix\n",
    "import scipy.sparse as sp\n",
    "import numpy as np\n",
    "n = 2000\n",
    "row = np.concatenate((np.arange(n), np.arange(n-1), np.arange(n-1)+1))\n",
    "col = np.concatenate((np.arange(n), np.arange(n-1)+1, np.arange(n-1)))\n",
    "data = np.concatenate((2*np.ones(n), -1*np.ones(n-1), -1*np.ones(n-1))) \n",
    "X1 = sp.csr_matrix((data, (row, col)), shape=(n, n))\n",
    "X2 = X1.toarray()\n",
    "a = np.ones(n)"
   ]
  },
  {
   "cell_type": "code",
   "execution_count": 52,
   "id": "f423a970",
   "metadata": {},
   "outputs": [
    {
     "name": "stdout",
     "output_type": "stream",
     "text": [
      "sparse matrix multiply a vecotor time cost  0.001995\n",
      "dense matrix multiply a vecotor time cost  0.266077\n"
     ]
    }
   ],
   "source": [
    "import datetime\n",
    "Ta1 = datetime.datetime.now()\n",
    "for i in range(100):\n",
    "    a = X1@a\n",
    "Tb1 = datetime.datetime.now()\n",
    "Ta2 = datetime.datetime.now()\n",
    "for i in range(100):\n",
    "    a = X2@a\n",
    "Tb2 = datetime.datetime.now()\n",
    "print(\"sparse matrix multiply a vecotor time cost \",(Tb1-Ta1).total_seconds())\n",
    "print(\"dense matrix multiply a vecotor time cost \",(Tb2-Ta2).total_seconds())"
   ]
  },
  {
   "cell_type": "markdown",
   "id": "ec34c94f",
   "metadata": {},
   "source": [
    "**Pytorch is a package that uses GPU to parallelize the computations, and is super efficient.**"
   ]
  },
  {
   "cell_type": "markdown",
   "id": "7515aa57-74d6-4261-a23b-981b3501c00e",
   "metadata": {},
   "source": [
    "### Matrix factorizations and iterative methods\n",
    "\n",
    "* Matrix factorizations: QR, LU, Cholesky, SVD; \n",
    "* Iterative methods for sparse matrices: gmres, minres, cg, bicgstab; \n",
    "* BLAS, LAPACK libraries in Scipy\n",
    "\n",
    "* [Numpy.linalg](https://numpy.org/doc/stable/reference/generated/numpy.linalg.qr.html)\n",
    "* [Scipy.sparse.linalg](https://docs.scipy.org/doc/scipy/reference/sparse.linalg.html)"
   ]
  },
  {
   "cell_type": "code",
   "execution_count": null,
   "id": "5f6f27ab-940d-4dc4-b8fd-a7dade4b1045",
   "metadata": {},
   "outputs": [],
   "source": []
  }
 ],
 "metadata": {
  "kernelspec": {
   "display_name": "Python 3 (ipykernel)",
   "language": "python",
   "name": "python3"
  },
  "language_info": {
   "codemirror_mode": {
    "name": "ipython",
    "version": 3
   },
   "file_extension": ".py",
   "mimetype": "text/x-python",
   "name": "python",
   "nbconvert_exporter": "python",
   "pygments_lexer": "ipython3",
   "version": "3.9.12"
  }
 },
 "nbformat": 4,
 "nbformat_minor": 5
}
