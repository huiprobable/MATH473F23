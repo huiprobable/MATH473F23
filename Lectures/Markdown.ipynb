{
 "cells": [
  {
   "cell_type": "markdown",
   "id": "3629448f-5016-40f4-8c8d-55575062f3aa",
   "metadata": {},
   "source": [
    "# Markdown language\n",
    "\n",
    "* plain and easy, like writing a document. \n",
    "* uses html syntax, like writing a webpage. But many times, have shortcuts and no need to use html syntax. \n",
    "* uses latex for math formulas and equations. \n",
    "* [Markdown cheatsheet](https://www.markdownguide.org/cheat-sheet/)\n",
    "* Here's [another Markdown cheatsheet](https://github.com/adam-p/markdown-here/wiki/Markdown-Cheatsheet)\n"
   ]
  },
  {
   "cell_type": "markdown",
   "id": "6cda8626-4ce6-4fca-96b0-1460a7c046f5",
   "metadata": {},
   "source": [
    "## Some examples of HTML syntax in Markdown\n",
    "\n",
    "<p style=\"color:rgb(256, 128, 100)\">dfgdg<br>\n",
    "    dfgdg</p>\n",
    "\n",
    "<mark>% dfgerg<br>\n",
    "dfgg<br>\n",
    "% ergdg<br>\n",
    "    </mark>\n",
    "    \n",
    "<div class=\"alert alert-block alert-info\">\n",
    "<b>Tip:</b> Use blue boxes (alert-info) for tips and notes. \n",
    "If it’s a note, you don’t have to include the word “Note”.\n",
    "</div>\n",
    "\n",
    "<div class=\"alert alert-block alert-warning\">\n",
    "<b>Example:</b> Use yellow boxes for examples that are not \n",
    "inside code cells, or use for mathematical formulas if needed.\n",
    "</div>\n",
    "\n",
    "<div class=\"alert alert-block alert-success\">\n",
    "<b>Up to you:</b> Use green boxes sparingly, and only for some specific \n",
    "purpose that the other boxes can't cover. For example, if you have a lot \n",
    "of related content to link to, maybe you decide to use green boxes for \n",
    "related links from each section of a notebook.\n",
    "</div>\n",
    "\n",
    "<div class=\"alert alert-block alert-danger\">\n",
    "<b>Just don't:</b> In general, avoid the red boxes. These should only be\n",
    "used for actions that might cause data loss or another major issue.\n",
    "</div>\n",
    "    "
   ]
  },
  {
   "cell_type": "code",
   "execution_count": null,
   "id": "85191d47-b4f6-4cfe-8cc4-2dedba3d1e0f",
   "metadata": {},
   "outputs": [],
   "source": []
  }
 ],
 "metadata": {
  "kernelspec": {
   "display_name": "Python 3 (ipykernel)",
   "language": "python",
   "name": "python3"
  },
  "language_info": {
   "codemirror_mode": {
    "name": "ipython",
    "version": 3
   },
   "file_extension": ".py",
   "mimetype": "text/x-python",
   "name": "python",
   "nbconvert_exporter": "python",
   "pygments_lexer": "ipython3",
   "version": "3.7.2"
  }
 },
 "nbformat": 4,
 "nbformat_minor": 5
}
