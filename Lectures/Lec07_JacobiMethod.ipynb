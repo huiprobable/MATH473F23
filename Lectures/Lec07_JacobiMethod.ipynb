{
 "cells": [
  {
   "cell_type": "markdown",
   "id": "5c9f5ded-efe2-48ba-ae89-a4f76c00b918",
   "metadata": {},
   "source": [
    "# Jacobi Method\n",
    "\n",
    "Jacobi method is one of the stationary iterative method for solving a linear system $$A{\\bf x}={\\bf b}$$ It splits the matrix $A=D+U+L$, where $D$ represents the diagonal of the matrix $A$, and $U$ and $L$ represent the upper and lower triangular parts of the matrix $A$, respectively. Let ${\\bf x}^{(k)}$ denotes the $k$-th iteration of the approximated solution, then the Jacobi method reads $${\\bf x}^{(k+1)}=D^{-1}\\left({\\bf b}-(L+U){\\bf x}^{(k)}\\right)$$\n",
    "\n",
    "Or componentwisely, it can be written as\n",
    "\n",
    "$${\\bf x}^{(k+1)}=\\frac{1}{a_{ii}}\\left(b_i-\\sum_{j=0, j\\neq i}^{n}a_{ij}x_j^{(k)}\\right)$$"
   ]
  },
  {
   "cell_type": "markdown",
   "id": "f29196bb-e81f-4738-a3b3-5f5316bdb0f3",
   "metadata": {},
   "source": [
    "* Now, let's try to use Jacobi Method to solve a one dimentional Poissons equation:\n",
    "$$-u_{xx}=\\pi^2\\sin{\\pi x} \\quad\\text{ for } x\\in(0,1)$$\n",
    "$$\\text{with}\\quad u(0)=u(1)=0$$\n"
   ]
  },
  {
   "cell_type": "code",
   "execution_count": 1,
   "id": "80fa54bc-1805-465e-a541-edec1547ba95",
   "metadata": {},
   "outputs": [],
   "source": [
    "%matplotlib inline\n",
    "import matplotlib.pyplot as plt\n",
    "import scipy.sparse as sp\n",
    "import numpy as np\n"
   ]
  },
  {
   "cell_type": "markdown",
   "id": "2b73fb53-4a16-410d-bcbd-8a3dd111b336",
   "metadata": {},
   "source": [
    "* Alright. It seems that you are getting the hang of Jacobi Method now. Let's try to use Jacobi Method to solve a $2D$ Poissons equation. \n",
    "$$-u_{xx}-u_{yy}=2\\pi^2\\sin{\\pi x}\\cos{\\pi y} \\quad\\text{ for } x\\in(0,1)\\text{ and } y\\in(0,1)$$\n",
    "$$\\text{with}\\quad u(0,y)=u(1,y)=0$$\n",
    "$$\\text{and }\\quad u(x,0)=\\sin{\\pi x}\\quad u(x,1)=-\\sin{\\pi x}$$"
   ]
  },
  {
   "cell_type": "code",
   "execution_count": null,
   "id": "044953fa-64ca-4034-af29-8fcc7ff169a8",
   "metadata": {},
   "outputs": [],
   "source": []
  }
 ],
 "metadata": {
  "kernelspec": {
   "display_name": "Python 3 (ipykernel)",
   "language": "python",
   "name": "python3"
  },
  "language_info": {
   "codemirror_mode": {
    "name": "ipython",
    "version": 3
   },
   "file_extension": ".py",
   "mimetype": "text/x-python",
   "name": "python",
   "nbconvert_exporter": "python",
   "pygments_lexer": "ipython3",
   "version": "3.10.8"
  }
 },
 "nbformat": 4,
 "nbformat_minor": 5
}
