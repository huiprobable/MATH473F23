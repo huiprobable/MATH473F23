{
 "cells": [
  {
   "cell_type": "markdown",
   "id": "5c9f5ded-efe2-48ba-ae89-a4f76c00b918",
   "metadata": {},
   "source": [
    "# Jacobi Method\n",
    "\n",
    "Jacobi method is one of the stationary iterative method for solving a linear system $$A{\\bf x}={\\bf b}$$ It splits the matrix $A=D+U+L$, where $D$ represents the diagonal of the matrix $A$, and $U$ and $L$ represent the upper and lower triangular parts of the matrix $A$, respectively. Let ${\\bf x}^{(k)}$ denotes the $k$-th iteration of the approximated solution, then the Jacobi method reads $${\\bf x}^{(k+1)}=D^{-1}\\left({\\bf b}-(L+U){\\bf x}^{(k)}\\right)$$\n",
    "\n",
    "Or componentwisely, it can be written as\n",
    "\n",
    "$$x_i^{(k+1)}=\\frac{1}{a_{ii}}\\left(b_i-\\sum_{j=0, j\\neq i}^{n}a_{ij}x_j^{(k)}\\right)$$"
   ]
  },
  {
   "cell_type": "markdown",
   "id": "f29196bb-e81f-4738-a3b3-5f5316bdb0f3",
   "metadata": {},
   "source": [
    "* Now, let's try to use Jacobi Method to solve a one dimentional Poissons equation:\n",
    "$$-u_{xx}=\\pi^2\\sin{\\pi x} \\quad\\text{ for } x\\in(0,1)$$\n",
    "$$\\text{with}\\quad u(0)=u(1)=0$$\n"
   ]
  },
  {
   "cell_type": "code",
   "execution_count": 1,
   "id": "80fa54bc-1805-465e-a541-edec1547ba95",
   "metadata": {},
   "outputs": [],
   "source": [
    "%matplotlib inline\n",
    "import matplotlib.pyplot as plt\n",
    "import scipy.sparse as sp\n",
    "import numpy as np\n"
   ]
  },
  {
   "cell_type": "code",
   "execution_count": 2,
   "id": "d4f084a4-127a-46bb-8dbf-daf3f2df5084",
   "metadata": {},
   "outputs": [],
   "source": [
    "def Poisson1D_Jacobi_OneStep(b, u, stencil = [-1, 2, -1]):\n",
    "    v = np.copy(u)\n",
    "    n = u.shape[0]\n",
    "    for i in range(1, n-1):\n",
    "        v[i] = (b[i]-stencil[0]*u[i+1]-stencil[2]*u[i-1])/stencil[1]\n",
    "    return v\n",
    "\n",
    "def Poisson1D_Jacobi(f, n, domain=[0,1], bdry_cond=[0,0], num_iter=1000, stencil=[-1, 2, -1]):\n",
    "    # set up the numerical parameters, as well as initial step. \n",
    "    x = np.linspace(domain[0],domain[1],n+1)\n",
    "    h = (domain[1]-domain[0])/n\n",
    "    b = f(x)*h**2\n",
    "    u = np.zeros(n+1)\n",
    "    u[0] = bdry_cond[0]\n",
    "    u[-1] = bdry_cond[1]\n",
    "    # for loop or while loop for the iterations. \n",
    "    for i in range(num_iter):\n",
    "        u = Poisson1D_Jacobi_OneStep(b, u, stencil=stencil)\n",
    "    return u\n"
   ]
  },
  {
   "cell_type": "code",
   "execution_count": 3,
   "id": "6ceacb5f-4f0b-40c2-ae4a-45e190b86cfe",
   "metadata": {},
   "outputs": [],
   "source": [
    "f1 = lambda x: np.pi**2*np.sin(np.pi*x)\n",
    "n1 = 100\n",
    "u = Poisson1D_Jacobi(f1, n1, num_iter=10000)\n",
    "x = np.linspace(0,1,n1+1)\n",
    "plt.plot(x, u)"
   ]
  },
  {
   "cell_type": "markdown",
   "id": "ee4bb0a9-e976-4012-a623-5544548c4b75",
   "metadata": {},
   "source": [
    "Let's use the code above to solve another problem: $$-u_{xx}=x(x-1)\\cos(x)\\quad\\text{ for } x\\in (0,\\pi) $$\n",
    "$$\\text{ with }\\quad u(0) = 1 \\text{ and } u(\\pi) = 2$$"
   ]
  },
  {
   "cell_type": "code",
   "execution_count": 4,
   "id": "a889e692-1839-4968-8cb3-fa735c55eab4",
   "metadata": {},
   "outputs": [],
   "source": [
    "f2 = lambda x: x*(x-1)*np.cos(x)\n",
    "n2 = 100\n",
    "u = Poisson1D_Jacobi(f2, n2, domain=[0, np.pi], bdry_cond=[1,2], num_iter=10000)\n",
    "x = np.linspace(0,1,n1+1)\n",
    "plt.plot(x, u)"
   ]
  },
  {
   "cell_type": "markdown",
   "id": "0b3805c5-fa45-4d11-b2ef-8293bf9bc01c",
   "metadata": {},
   "source": [
    "Let's use the code above to solve another problem: $$u-u_{xx}=x(x-1)\\cos(x)\\quad\\text{ for } x\\in (0,\\pi) $$\n",
    "$$\\text{ with }\\quad u(0) = 1 \\text{ and } u(\\pi) = 2$$"
   ]
  },
  {
   "cell_type": "code",
   "execution_count": 5,
   "id": "e5830bc3-a284-484a-b4a7-929eefff026a",
   "metadata": {},
   "outputs": [],
   "source": [
    "f2 = lambda x: x*(x-1)*np.cos(x)\n",
    "n2 = 100\n",
    "u = Poisson1D_Jacobi(f2, n2, domain=[0, np.pi], bdry_cond=[1,2], num_iter=10000, stencil=[-1,2+(np.pi/n2)**2,-1])\n",
    "x = np.linspace(0,1,n1+1)\n",
    "plt.plot(x, u)"
   ]
  },
  {
   "cell_type": "markdown",
   "id": "2b73fb53-4a16-410d-bcbd-8a3dd111b336",
   "metadata": {},
   "source": [
    "* Alright. It seems that you are getting the hang of Jacobi Method now. Let's try to use Jacobi Method to solve a $2D$ Poissons equation. \n",
    "$$-u_{xx}-u_{yy}=2\\pi^2\\sin{\\pi x}\\cos{\\pi y} \\quad\\text{ for } x\\in(0,1)\\text{ and } y\\in(0,1)$$\n",
    "$$\\text{with}\\quad u(0,y)=u(1,y)=0$$\n",
    "$$\\text{and }\\quad u(x,0)=\\sin{\\pi x}\\quad u(x,1)=-\\sin{\\pi x}$$"
   ]
  },
  {
   "cell_type": "code",
   "execution_count": null,
   "id": "f0e4a427-5c8a-42e6-b151-043b92cb5050",
   "metadata": {},
   "outputs": [],
   "source": []
  }
 ],
 "metadata": {
  "kernelspec": {
   "display_name": "Python 3 (ipykernel)",
   "language": "python",
   "name": "python3"
  },
  "language_info": {
   "codemirror_mode": {
    "name": "ipython",
    "version": 3
   },
   "file_extension": ".py",
   "mimetype": "text/x-python",
   "name": "python",
   "nbconvert_exporter": "python",
   "pygments_lexer": "ipython3",
   "version": "3.10.8"
  }
 },
 "nbformat": 4,
 "nbformat_minor": 5
}
